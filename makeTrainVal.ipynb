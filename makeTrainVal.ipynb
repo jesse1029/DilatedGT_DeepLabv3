{
 "cells": [
  {
   "cell_type": "code",
   "execution_count": 3,
   "metadata": {},
   "outputs": [],
   "source": [
    "import glob, cv2, pdb, numpy as np\n",
    "classes = ['drusen', 'hemorrhage', 'exudate', 'scar', 'others']\n",
    "\n",
    "\n",
    "root = 'pascal/'\n",
    "label_file = 'data/'\n",
    "data_file  = root +'JPEGImages/'\n",
    "image_name, class_name = [], []\n",
    "def get_pascal_labels():\n",
    "    \"\"\"Load the mapping that associates pascal classes with label colors\n",
    "    Returns:\n",
    "        np.ndarray with dimensions (21, 3)\n",
    "    \"\"\"\n",
    "    return np.asarray([[0, 0, 0], [128, 0, 0], [0, 128, 0], [128, 128, 0],\n",
    "                       [0, 0, 128], [128, 0, 128]])\n",
    "\n",
    "label = get_pascal_labels()\n",
    "meanimage = np.zeros((513,513,3))\n",
    "kernel = np.ones((11,11),np.uint8)\n",
    "kernel2 = np.ones((11,11),np.uint8)\n",
    "\n",
    "for __img in glob.glob(data_file + '/*.jpg'):\n",
    "    image_name.append(__img.split('/')[-1])\n",
    "    img = cv2.imread(root+'JPEGImages/' + image_name[-1])\n",
    "    ix = cv2.resize(img, dsize=(513,513))\n",
    "    meanimage += ix\n",
    "    \n",
    "    cls_img = np.zeros((img.shape[0], img.shape[1]), np.uint8)\n",
    "    for cid, c in enumerate(classes):\n",
    "        fn = label_file +c +'/' + image_name[-1][:-4] + '.bmp'\n",
    "        img = cv2.imread(fn)[:,:,0]\n",
    "        img = cv2.morphologyEx(255-img, cv2.MORPH_DILATE, kernel)\n",
    "        img = 255-cv2.morphologyEx(img, cv2.MORPH_OPEN, kernel2)\n",
    "#         pdb.set_trace()\n",
    "        cls_img[img == 0] = cid+1\n",
    "#     cv2.imwrite('data/' + image_name[-1][:-4] + '.png', cls_img)\n",
    "\n",
    "    cv2.imwrite(root+'SegmentationClass/' + image_name[-1][:-4] + '.png', cls_img)\n",
    "\n",
    "import numpy as np, random as rn\n",
    "len1=len(image_name)\n",
    "meanimage = meanimage/len1\n",
    "np.save('meanimage.npy', meanimage)\n",
    "\n",
    "idx = np.array(range(len1))\n",
    "rn.shuffle(idx)\n",
    "\n",
    "# with open(root+'ImageSets/Segmentation/train.txt', 'w') as fp:\n",
    "#     for i in range(len1-10):\n",
    "#         fp.write('%s\\n' % image_name[idx[i]][:-4])\n",
    "# with open(root+'ImageSets/Segmentation/val.txt', 'w') as fp:\n",
    "#     for i in range(len1-10, len1):\n",
    "#         fp.write('%s\\n' % image_name[idx[i]][:-4])\n"
   ]
  },
  {
   "cell_type": "code",
   "execution_count": 28,
   "metadata": {},
   "outputs": [
    {
     "data": {
      "text/plain": [
       "0.9616015227124506"
      ]
     },
     "execution_count": 28,
     "metadata": {},
     "output_type": "execute_result"
    }
   ],
   "source": [
    "img = cv2.imread('data/A0029.bmp')\n",
    "np.mean(img==0)"
   ]
  },
  {
   "cell_type": "code",
   "execution_count": 17,
   "metadata": {},
   "outputs": [
    {
     "data": {
      "text/plain": [
       "0"
      ]
     },
     "execution_count": 17,
     "metadata": {},
     "output_type": "execute_result"
    }
   ],
   "source": []
  }
 ],
 "metadata": {
  "kernelspec": {
   "display_name": "Python 3",
   "language": "python",
   "name": "python3"
  },
  "language_info": {
   "codemirror_mode": {
    "name": "ipython",
    "version": 3
   },
   "file_extension": ".py",
   "mimetype": "text/x-python",
   "name": "python",
   "nbconvert_exporter": "python",
   "pygments_lexer": "ipython3",
   "version": "3.6.9"
  }
 },
 "nbformat": 4,
 "nbformat_minor": 4
}
