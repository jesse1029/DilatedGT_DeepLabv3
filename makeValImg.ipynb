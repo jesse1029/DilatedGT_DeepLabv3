{
 "cells": [
  {
   "cell_type": "code",
   "execution_count": 3,
   "metadata": {},
   "outputs": [],
   "source": [
    "import os, numpy as np, cv2, pdb\n",
    "from shutil import copyfile\n",
    "\n",
    "classes = ['drusen', 'hemorrhage', 'exudate', 'scar', 'others']\n",
    "def get_pascal_labels():\n",
    "    \"\"\"Load the mapping that associates pascal classes with label colors\n",
    "    Returns:\n",
    "        np.ndarray with dimensions (21, 3)\n",
    "    \"\"\"\n",
    "    return np.asarray([[0, 0, 0], [128, 0, 0], [0, 128, 0], [128, 128, 0],\n",
    "                       [0, 0, 128], [128, 0, 128]])\n",
    "\n",
    "label = get_pascal_labels()\n",
    "\n",
    "with open('pascal/ImageSets/Segmentation/val.txt', 'r') as fp:\n",
    "    data = fp.readlines()\n",
    "for cid, c in enumerate(classes):\n",
    "    if not os.path.isdir('val/' + c):\n",
    "        os.mkdir('val/' + c)\n",
    "        \n",
    "        \n",
    "for fn in data:\n",
    "    fn = fn.strip('\\n')\n",
    "#         copyfile('data/' + c + '/' + fn+'.bmp', 'val/' + c + '/' + fn+'.bmp')\n",
    "    img = cv2.imread('pascal/JPEGImages/' + fn + '.jpg')\n",
    "#     pdb.set_trace()\n",
    "    cls_img = np.zeros((img.shape[0], img.shape[1], 3), np.uint8)\n",
    "    for cid, c in enumerate(classes):\n",
    "        fns = 'data/' +c +'/' + fn + '.bmp'\n",
    "        img = cv2.imread(fns)[:,:,0]\n",
    "        cls_img[img == 0, :] = label[cid+1]\n",
    "    cv2.imwrite('val/' + fn + '.png', cls_img)\n",
    "    "
   ]
  },
  {
   "cell_type": "code",
   "execution_count": null,
   "metadata": {},
   "outputs": [],
   "source": []
  }
 ],
 "metadata": {
  "kernelspec": {
   "display_name": "Python 3",
   "language": "python",
   "name": "python3"
  },
  "language_info": {
   "codemirror_mode": {
    "name": "ipython",
    "version": 3
   },
   "file_extension": ".py",
   "mimetype": "text/x-python",
   "name": "python",
   "nbconvert_exporter": "python",
   "pygments_lexer": "ipython3",
   "version": "3.6.9"
  }
 },
 "nbformat": 4,
 "nbformat_minor": 4
}
